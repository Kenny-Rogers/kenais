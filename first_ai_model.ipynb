{
  "nbformat": 4,
  "nbformat_minor": 0,
  "metadata": {
    "colab": {
      "name": "first_ai_model.ipynb",
      "provenance": [],
      "authorship_tag": "ABX9TyNsUjWJfthLyON5DoSYAe0Z",
      "include_colab_link": true
    },
    "kernelspec": {
      "name": "python3",
      "display_name": "Python 3"
    }
  },
  "cells": [
    {
      "cell_type": "markdown",
      "metadata": {
        "id": "view-in-github",
        "colab_type": "text"
      },
      "source": [
        "<a href=\"https://colab.research.google.com/github/Kenny-Rogers/kenais/blob/master/first_ai_model.ipynb\" target=\"_parent\"><img src=\"https://colab.research.google.com/assets/colab-badge.svg\" alt=\"Open In Colab\"/></a>"
      ]
    },
    {
      "cell_type": "markdown",
      "metadata": {
        "id": "S60yD9xHxKl1"
      },
      "source": [
        "Import libraries"
      ]
    },
    {
      "cell_type": "code",
      "metadata": {
        "id": "shcE6mL7waa-"
      },
      "source": [
        "import tensorflow as tf\n",
        "# tf.logging.set_verbosity(tf.logging.ERROR)\n",
        "import numpy as np\n",
        "import matplotlib.pyplot as plt\n",
        "from sklearn.model_selection import train_test_split\n",
        "from sklearn.metrics import r2_score"
      ],
      "execution_count": null,
      "outputs": []
    },
    {
      "cell_type": "markdown",
      "metadata": {
        "id": "hQa7BGx0xbVD"
      },
      "source": [
        "Import data set\n"
      ]
    },
    {
      "cell_type": "code",
      "metadata": {
        "id": "psxPM_htxJvn",
        "outputId": "f4d4cd60-56a9-4226-fba3-b6a04a217086",
        "colab": {
          "base_uri": "https://localhost:8080/",
          "height": 164
        }
      },
      "source": [
        "mar_budget = np.array([60, 80, 100, 30, 50, 20, 90, 10], dtype=float)\n",
        "subs_gained = np.array([160, 200, 240, 100, 140, 80, 220, 60], dtype=float)\n",
        "\n",
        "for i,c in enumerate(mar_budget):\n",
        "  print(\"{} Market budget = {} new subscribers gained\".format(c, subs_gained[i]))"
      ],
      "execution_count": null,
      "outputs": [
        {
          "output_type": "stream",
          "text": [
            "60.0 Market budget = 160.0 new subscribers gained\n",
            "80.0 Market budget = 200.0 new subscribers gained\n",
            "100.0 Market budget = 240.0 new subscribers gained\n",
            "30.0 Market budget = 100.0 new subscribers gained\n",
            "50.0 Market budget = 140.0 new subscribers gained\n",
            "20.0 Market budget = 80.0 new subscribers gained\n",
            "90.0 Market budget = 220.0 new subscribers gained\n",
            "10.0 Market budget = 60.0 new subscribers gained\n"
          ],
          "name": "stdout"
        }
      ]
    },
    {
      "cell_type": "markdown",
      "metadata": {
        "id": "DK8uIpMYyTEJ"
      },
      "source": [
        "Plot data set"
      ]
    },
    {
      "cell_type": "code",
      "metadata": {
        "id": "I7qLYgE6yXC7",
        "outputId": "9048bf94-14ed-4d1a-cb0a-2afe007dd4f5",
        "colab": {
          "base_uri": "https://localhost:8080/",
          "height": 279
        }
      },
      "source": [
        "plt.scatter(mar_budget, subs_gained)\n",
        "plt.xlim(0, 120)\n",
        "plt.ylim(0, 260)\n",
        "plt.xlabel(\"Marketing Budget(in thousand of Dollars)\")\n",
        "plt.ylabel(\"Subscribers Gained(in thousand)\")\n",
        "plt.show()"
      ],
      "execution_count": null,
      "outputs": [
        {
          "output_type": "display_data",
          "data": {
            "image/png": "[encoded data removed]",
            "text/plain": [
              "<Figure size 432x288 with 1 Axes>"
            ]
          },
          "metadata": {
            "tags": [],
            "needs_background": "light"
          }
        }
      ]
    },
    {
      "cell_type": "markdown",
      "metadata": {
        "id": "H6IRgw91zMTG"
      },
      "source": [
        "Split data into Training and Test"
      ]
    },
    {
      "cell_type": "code",
      "metadata": {
        "id": "pkRsjfSBzRFC"
      },
      "source": [
        "X_train, X_test, y_train, y_test = train_test_split(mar_budget, subs_gained, random_state=42, train_size=0.8, test_size=0.2)"
      ],
      "execution_count": null,
      "outputs": []
    },
    {
      "cell_type": "markdown",
      "metadata": {
        "id": "Bl8McNcP0Jjy"
      },
      "source": [
        "Creating the model"
      ]
    },
    {
      "cell_type": "code",
      "metadata": {
        "id": "otGEtFpT6b9-",
        "outputId": "f4e79d2e-1aad-4513-cbe8-bde23ac39b61",
        "colab": {
          "base_uri": "https://localhost:8080/",
          "height": 54
        }
      },
      "source": [
        "# l_0 = tf.keras.layers.Dense(units=4, input_shape=[1])\n",
        "# l_1 = tf.keras.layers.Dense(units=5)\n",
        "# l_2 = tf.keras.layers.Dense(units=1) \n",
        "# model = tf.keras.Sequential([l_0, l_1, l_2])\n",
        "# model.compile(loss='mean_squared_error', optimizer=tf.keras.optimizers.Adam(0.1))\n",
        "# model.fit(X_train,y_train, epochs=2000,verbose=False)\n",
        "# print('\\n Finished training Model')"
      ],
      "execution_count": null,
      "outputs": [
        {
          "output_type": "stream",
          "text": [
            "\n",
            " Finished training Model\n"
          ],
          "name": "stdout"
        }
      ]
    },
    {
      "cell_type": "code",
      "metadata": {
        "id": "b8FeHa950YTi"
      },
      "source": [
        "layer_0 = tf.keras.layers.Dense(units=1, input_shape=[1])\n",
        "model = tf.keras.Sequential([layer_0])\n",
        "model.compile(loss='mean_squared_error', optimizer=tf.keras.optimizers.Adam(0.1))"
      ],
      "execution_count": null,
      "outputs": []
    },
    {
      "cell_type": "markdown",
      "metadata": {
        "id": "5VT3PNFh2ae9"
      },
      "source": [
        "Train the model"
      ]
    },
    {
      "cell_type": "code",
      "metadata": {
        "id": "EHeO9LUz2UXz",
        "outputId": "16fe1db1-9fc3-40d1-dc1c-35f5f501f0d9",
        "colab": {
          "base_uri": "https://localhost:8080/",
          "height": 35
        }
      },
      "source": [
        "trained_model = model.fit(X_train, y_train, epochs=10000, verbose=False)\n",
        "print(\"Finished training the model\")"
      ],
      "execution_count": null,
      "outputs": [
        {
          "output_type": "stream",
          "text": [
            "Finished training the model\n"
          ],
          "name": "stdout"
        }
      ]
    },
    {
      "cell_type": "markdown",
      "metadata": {
        "id": "mJ1WjBxm3Lr9"
      },
      "source": [
        "Display training statistics"
      ]
    },
    {
      "cell_type": "code",
      "metadata": {
        "id": "H0UlK3Yq3Szd",
        "outputId": "9804b298-bf41-4108-ba70-05cd82e46e8b",
        "colab": {
          "base_uri": "https://localhost:8080/",
          "height": 297
        }
      },
      "source": [
        "plt.xlabel(\"Epoch Number\")\n",
        "plt.ylabel(\"Loss Magnitude\")\n",
        "plt.plot(trained_model.history['loss'])"
      ],
      "execution_count": null,
      "outputs": [
        {
          "output_type": "execute_result",
          "data": {
            "text/plain": [
              "[<matplotlib.lines.Line2D at 0x7f04317be2b0>]"
            ]
          },
          "metadata": {
            "tags": []
          },
          "execution_count": 68
        },
        {
          "output_type": "display_data",
          "data": {
            "image/png": "[encoded data removed]",
            "text/plain": [
              "<Figure size 432x288 with 1 Axes>"
            ]
          },
          "metadata": {
            "tags": [],
            "needs_background": "light"
          }
        }
      ]
    },
    {
      "cell_type": "markdown",
      "metadata": {
        "id": "2EqxaWKk3oCU"
      },
      "source": [
        "Use the model to predict values"
      ]
    },
    {
      "cell_type": "code",
      "metadata": {
        "id": "bH9qYWlf3svD",
        "outputId": "7db1e46c-8085-4eea-e5da-ead9d63b0533",
        "colab": {
          "base_uri": "https://localhost:8080/",
          "height": 74
        }
      },
      "source": [
        "print(model.predict([80.0]))"
      ],
      "execution_count": null,
      "outputs": [
        {
          "output_type": "stream",
          "text": [
            "WARNING:tensorflow:6 out of the last 15 calls to <function Model.make_predict_function.<locals>.predict_function at 0x7f042f431e18> triggered tf.function retracing. Tracing is expensive and the excessive number of tracings could be due to (1) creating @tf.function repeatedly in a loop, (2) passing tensors with different shapes, (3) passing Python objects instead of tensors. For (1), please define your @tf.function outside of the loop. For (2), @tf.function has experimental_relax_shapes=True option that relaxes argument shapes that can avoid unnecessary retracing. For (3), please refer to https://www.tensorflow.org/tutorials/customization/performance#python_or_tensor_args and https://www.tensorflow.org/api_docs/python/tf/function for  more details.\n",
            "[[200.00002]]\n"
          ],
          "name": "stdout"
        }
      ]
    },
    {
      "cell_type": "markdown",
      "metadata": {
        "id": "B8QXr4Kw4CD6"
      },
      "source": [
        "Use model to predict values for test data"
      ]
    },
    {
      "cell_type": "code",
      "metadata": {
        "id": "NpcjnQdZ4JYE",
        "outputId": "fc9ab87f-6155-486a-92ad-82cf996e20c3",
        "colab": {
          "base_uri": "https://localhost:8080/",
          "height": 54
        }
      },
      "source": [
        "y_pred = model.predict(X_test)\n",
        "print('Actual Values\\tPredicted Values')\n",
        "print(y_test,'   ',y_pred.reshape(1,-1))"
      ],
      "execution_count": null,
      "outputs": [
        {
          "output_type": "stream",
          "text": [
            "Actual Values\tPredicted Values\n",
            "[200.  80.]     [[200.00003  80.     ]]\n"
          ],
          "name": "stdout"
        }
      ]
    },
    {
      "cell_type": "markdown",
      "metadata": {
        "id": "IS5XvPIi4ucx"
      },
      "source": [
        "Verify model accuracy using performance metric"
      ]
    },
    {
      "cell_type": "code",
      "metadata": {
        "id": "jvSl1XQ941qA",
        "outputId": "c9d1f048-a402-47d0-8b11-302b9f9e5aa7",
        "colab": {
          "base_uri": "https://localhost:8080/",
          "height": 35
        }
      },
      "source": [
        "r2_score(y_test,y_pred)"
      ],
      "execution_count": null,
      "outputs": [
        {
          "output_type": "execute_result",
          "data": {
            "text/plain": [
              "0.9999999999998707"
            ]
          },
          "metadata": {
            "tags": []
          },
          "execution_count": 71
        }
      ]
    }
  ]
}